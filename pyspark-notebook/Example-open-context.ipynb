{
 "cells": [
  {
   "cell_type": "code",
   "execution_count": null,
   "metadata": {
    "scrolled": true
   },
   "outputs": [],
   "source": [
    "def get_spark_ui_url(spark_context):\n",
    "    from kubernetes import config\n",
    "    from openshift.dynamic import DynamicClient\n",
    "    import socket\n",
    "\n",
    "\n",
    "    namespace = None\n",
    "    with open('/var/run/secrets/kubernetes.io/serviceaccount/namespace') as file:\n",
    "        namespace = file.read()\n",
    "\n",
    "    k8s_client = config.new_client_from_config()\n",
    "    dyn_client = DynamicClient(k8s_client)\n",
    "    routes = dyn_client.resources.get(api_version='route.openshift.io/v1', kind='Route')\n",
    "    jupyter_hub_route = routes.get(namespace=namespace)['items'][0]['spec']['host']\n",
    "\n",
    "    return f\"https://{jupyter_hub_route}/user/{socket.gethostname().split('-nb-')[-1]}/proxy/{spark_context.uiWebUrl.split(':')[-1]}/jobs/\"\n",
    "\n",
    "def get_driver_dns():\n",
    "    import os\n",
    "\n",
    "    namespace = None\n",
    "    with open('/var/run/secrets/kubernetes.io/serviceaccount/namespace') as file:\n",
    "        namespace = file.read()\n",
    "\n",
    "    return f\"{os.environ['HOSTNAME']}-headless-service.{namespace}.svc.cluster.local\"\n",
    "\n",
    "def initialize_pyspark_context(context_purpose: str, user_name: str):\n",
    "    import pyspark\n",
    "    import os\n",
    "\n",
    "    conf = pyspark.SparkConf()\n",
    "    conf.set('spark.master',\n",
    "             f\"k8s://https://{os.environ['KUBERNETES_SERVICE_HOST']}:{os.environ['KUBERNETES_SERVICE_PORT']}\")\n",
    "    conf.setAppName(context_purpose)\n",
    "    conf.set('spark.driver.host', get_driver_dns())\n",
    "    conf.set('spark.kubernetes.container.image', 'gchr.io/momoadc/jupyter-notebooks/spark-py:v3.2.0')\n",
    "    conf.set('spark.ui.port', '4040')\n",
    "    conf.set('spark.kubernetes.namespace', 'jupyterhub')\n",
    "\n",
    "    conf.set('spark.kubernetes.executor.label.username', user_name)\n",
    "\n",
    "    # Authentication\n",
    "    conf.set('spark.kubernetes.authenticate.caCertFile', '/var/run/secrets/kubernetes.io/serviceaccount/ca.crt')\n",
    "    conf.set('spark.kubernetes.authenticate.clientCertFile', '/var/run/secrets/kubernetes.io/serviceaccount/service-ca.crt')\n",
    "    conf.set('spark.kubernetes.authenticate.oauthToken', os.environ['OPENSHIFT_TOKEN'])\n",
    "\n",
    "    # Resources\n",
    "    conf.set('spark.executor.instances', '2')\n",
    "    conf.set('spark.kubernetes.executor.request.cores', '500m')\n",
    "    conf.set('spark.kubernetes.executor.limit.cores', '3')\n",
    "\n",
    "    spark_context = pyspark.SparkContext(conf=conf)\n",
    "\n",
    "    print(\"Spark UI: \" + get_spark_ui_url(spark_context))\n",
    "\n",
    "    return spark_context\n"
   ]
  },
  {
   "cell_type": "code",
   "execution_count": null,
   "metadata": {},
   "outputs": [],
   "source": [
    "sc = initialize_pyspark_context('testy_test', 'my_user')"
   ]
  },
  {
   "cell_type": "code",
   "execution_count": null,
   "metadata": {
    "collapsed": true
   },
   "outputs": [],
   "source": [
    "# Create a distributed data set to test the session.\n",
    "t = sc.parallelize(range(10))\n",
    "\n",
    "# Calculate the approximate sum of values in the dataset\n",
    "r = t.sumApprox(3)\n",
    "print('Approximate sum: %s' % r)"
   ]
  }
 ],
 "metadata": {
  "kernelspec": {
   "display_name": "Python 3 (ipykernel)",
   "language": "python",
   "name": "python3"
  },
  "language_info": {
   "codemirror_mode": {
    "name": "ipython",
    "version": 3
   },
   "file_extension": ".py",
   "mimetype": "text/x-python",
   "name": "python",
   "nbconvert_exporter": "python",
   "pygments_lexer": "ipython3",
   "version": "3.8.6"
  }
 },
 "nbformat": 4,
 "nbformat_minor": 5
}
